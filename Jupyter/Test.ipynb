{
 "cells": [
  {
   "cell_type": "code",
   "execution_count": 1,
   "id": "8b1eaaa3",
   "metadata": {},
   "outputs": [
    {
     "name": "stdout",
     "output_type": "stream",
     "text": [
      "  PRODUCTION_ORDER PLANT ACTUAL_FINISH_DATE          PN0  \\\n",
      "0        302316713  2101           20220322  P1000194588   \n",
      "1        302316714  2101           20220324  P1000194588   \n",
      "\n",
      "                                         DESCRIPTION          PN1  \\\n",
      "0  ACTUATOR ASSY F/ AH700 (SUBSEA 2.0) 2 1/16-15K...  P1000194588   \n",
      "1  ACTUATOR ASSY F/ AH700 (SUBSEA 2.0) 2 1/16-15K...  P1000194588   \n",
      "\n",
      "   ACCOUNTING_COST COST_ELEMENT COST_TYPE  WTG001  ...  WTG007  WTG008  \\\n",
      "0          9943.83       497142        04     0.0  ...     0.0     0.0   \n",
      "1          9943.83       497142        04     0.0  ...     0.0     0.0   \n",
      "\n",
      "   WTG009  WTG010  WTG011  WTG012  WTG013  WTG014  WTG015  WTG016  \n",
      "0     0.0     0.0     0.0     0.0     0.0     0.0     0.0     0.0  \n",
      "1     0.0     0.0     0.0     0.0     0.0     0.0     0.0     0.0  \n",
      "\n",
      "[2 rows x 25 columns] (14, 25)\n"
     ]
    }
   ],
   "source": [
    "import pandas as pd\n",
    "import numpy as np\n",
    "import matplotlib.pyplot as plt\n",
    "from matplotlib.patches import ConnectionPatch\n",
    "import warnings\n",
    "import snowflake.connector\n",
    "import sys\n",
    "import os\n",
    "import re\n",
    "warnings.filterwarnings('ignore')\n",
    "\n",
    "PN='P1000194588'\n",
    "PN_string = PN,PN\n",
    "my_query = f\"\"\"\n",
    "select\n",
    "ltrim(a.aufnr,'0') as production_order,\n",
    "a.WERKS as plant,\n",
    "b.GLTRI as actual_finish_date,\n",
    "ltrim(b.plnbez,'0') as PN0,\n",
    "h.description as description,\n",
    "ltrim(c.matnr,'0') as PN1,\n",
    "c.wewrt as accounting_cost,\n",
    "ltrim(d.kstar,'0') as cost_element,\n",
    "d.wrttp as cost_type,\n",
    "d.WTG001,d.WTG002,d.WTG003,d.WTG004,d.WTG005,d.WTG006,d.WTG007,\n",
    "d.WTG008,d.WTG009,d.WTG010,d.WTG011,d.WTG012,d.WTG013,d.WTG014,\n",
    "d.WTG015,d.WTG016\n",
    "from rpl_sap_attunity.aufk as a\n",
    "inner join rpl_sap_attunity.afko as b on b.aufnr = a.aufnr\n",
    "inner join core.material as h on h.material = b.plnbez\n",
    "inner join rpl_sap_attunity.afpo as c on c.aufnr = a.aufnr\n",
    "inner join rpl_sap_attunity.coss as d on d.objnr = a.objnr\n",
    "where b.terkz ='1'\n",
    "and c.elikz ='X'\n",
    "and d.wrttp ='04'\n",
    "--and a.WERKS = '2101'\n",
    "and PN0 in {PN_string}\n",
    "order by a.aufnr\n",
    "\"\"\"    # internal cost query \n",
    "\n",
    "my_query1 = f\"\"\"\n",
    "select \n",
    "ltrim(a.aufnr,'0') as production_order,\n",
    "a.WERKS as plant,\n",
    "b.GLTRI as actual_finish_date,\n",
    "ltrim(b.plnbez,'0') as PN0,\n",
    "ltrim(c.matnr,'0') as PN1,\n",
    "c.wewrt as accounting_cost,\n",
    "ltrim(d.kstar,'0') as cost_element,\n",
    "d.wrttp as cost_type,\n",
    "d.WTG001,d.WTG002,d.WTG003,d.WTG004,d.WTG005,d.WTG006,d.WTG007,d.WTG008,\n",
    "d.WTG009,d.WTG010,d.WTG011,d.WTG012,d.WTG013,d.WTG014,d.WTG015,d.WTG016\n",
    "from rpl_sap_attunity.aufk as a\n",
    "inner join rpl_sap_attunity.afko as b on b.aufnr = a.aufnr\n",
    "inner join rpl_sap_attunity.afpo as c on c.aufnr = a.aufnr\n",
    "inner join rpl_sap_attunity.cosp as d on d.objnr = a.objnr\n",
    "where b.terkz ='1'\n",
    "and c.elikz ='X'\n",
    "and d.wrttp ='04'\n",
    "and PN0 in {PN_string}\n",
    "--and a.WERKS = '2101'\n",
    "order by a.aufnr\n",
    "\"\"\"  # query statement\n",
    "\n",
    "my_query2 = f\"\"\"\n",
    "select \n",
    "ltrim(a.aufnr,'0') as production_order,\n",
    "a.WERKS as plant,\n",
    "b.GLTRI as actual_finish_date,\n",
    "ltrim(b.plnbez,'0') as PN0,\n",
    "d.matnr as component_pn,\n",
    "f.description as description,\n",
    "case when d.waers ='USD'\n",
    "    then d.ENWRT \n",
    "    else round(d.enwrt * g.exchange_rate,2)\n",
    "end as cot_total_cost_usd,\n",
    "d.waers as orin_currency,\n",
    "d.enmng as qty_consumption,\n",
    "d.saknr as cost_element,\n",
    "d.erfmg as qty_per_unit,\n",
    "d.ERFME as UOM,\n",
    "d.baugr as toplevel_pn,\n",
    "case when d.waers ='USD'\n",
    "    then d.GPREIS \n",
    "    else round(d.GPREIS * g.exchange_rate,2)\n",
    "end as unit_cost_usd\n",
    "from rpl_sap_attunity.aufk as a\n",
    "inner join rpl_sap_attunity.afko as b on b.aufnr = a.aufnr\n",
    "inner join rpl_sap_attunity.afpo as c on c.aufnr = a.aufnr\n",
    "inner join (select matnr,ENWRT,waers,aufnr,enmng,saknr,erfmg,erfme,baugr,gpreis,sbter,concat(waers::text,substring(sbter::text,1,8)) as \n",
    "                      uni_key from rpl_sap_attunity.resb ) as d on d.aufnr = a.aufnr\n",
    "inner join core.material as f on f.material = d.matnr\n",
    "left join (select from_currency, to_currency, exchange_rate,rate_date,concat(from_currency::text,substring(to_char(rate_date,'yyyymmdd')::text,1,8)) as \n",
    "                                    uni_key from SAP_REPORTING.CURRENCY_CONVERSION where to_currency='USD') as g on g.uni_key = d.uni_key\n",
    "where b.terkz ='1'\n",
    "and c.elikz ='X'\n",
    "and PN0 in {PN_string}\n",
    "order by a.aufnr\n",
    "\"\"\" # query the purchased individual part cost \n",
    "\n",
    "\n",
    "# query data from snowfake\n",
    "with snowflake.connector.connect( \n",
    "    user='ethan.zhu@technipfmc.com', # Required. Replace with your email \n",
    "    authenticator=\"externalbrowser\", # Required. \n",
    "    account='technipfmc-data', # Required. \n",
    "    database=\"idsprod\", # Optional \n",
    "    schema=\"rpl_sap.ekko\", # Optional. Replace with the schema you will be working on \n",
    "    role=\"reporting\", # Optional. Replace with the role you will be working with \n",
    "    warehouse=\"reporting_wh\", # Optional. Replace with the warehouse you will be working with \n",
    "    client_store_temporary_credential=True, # Only if installing secure-local-storage to avoid reopening tabs\n",
    "    ) as conn: \n",
    "    cursor = conn.cursor()\n",
    "    cursor.execute(my_query)\n",
    "    cursor1 = conn.cursor()\n",
    "    cursor1.execute(my_query1)\n",
    "    cursor2 = conn.cursor()\n",
    "    cursor2.execute(my_query2)\n",
    "    # res = cursor.fetchall() # To return a list of tuples \n",
    "    df_toplevelpn = cursor.fetch_pandas_all() # To return a dataframe\n",
    "    df_externalcost = cursor1.fetch_pandas_all()\n",
    "    df_individualpn = cursor2.fetch_pandas_all()\n",
    "print(df_toplevelpn.head(2),df_toplevelpn.shape)"
   ]
  },
  {
   "cell_type": "code",
   "execution_count": 2,
   "id": "93823c3f",
   "metadata": {},
   "outputs": [
    {
     "data": {
      "text/plain": [
       "'c:\\\\Users\\\\zhusj\\\\python\\\\Project'"
      ]
     },
     "execution_count": 2,
     "metadata": {},
     "output_type": "execute_result"
    }
   ],
   "source": [
    "os.getcwd()"
   ]
  },
  {
   "cell_type": "code",
   "execution_count": 3,
   "id": "9d49b977",
   "metadata": {},
   "outputs": [
    {
     "name": "stdout",
     "output_type": "stream",
     "text": [
      "c:\\Users\\zhusj\\python\\Project\n"
     ]
    }
   ],
   "source": [
    "print(os.getcwd())"
   ]
  },
  {
   "cell_type": "code",
   "execution_count": 4,
   "id": "f6b40397",
   "metadata": {},
   "outputs": [
    {
     "name": "stdout",
     "output_type": "stream",
     "text": [
      "['.gitignore', '.ipynb_checkpoints', 'BOM_organized.py', 'BOM_organizedV1.py', 'BOM_organizedV2.py', 'BOM_organizedV3.py', 'BOM_organizedV4.py', 'BOM_organizedV5.py', 'BOM_organized_orin.py', 'ChinaSpendAnalysis.ipynb', 'cnn-with-pytorch-0-995-accuracy.ipynb', 'Crab_competition_zhu.py', 'Function test .ipynb', 'function_test_all.ipynb', 'Historical PO of GSP.py', 'NN.ipynb', 'OEMQuery.py', 'Practical transformer.ipynb', 'SFdataQuery.py', 'Spider_tetst.py', 'System_level_cost_analysis.py', 'System_level_cost_analysisV1.py', 'Test.ipynb', 'Test_cls_fun.py', 'Text classification with Transformers.ipynb', 'Text classification with Transformers.py', 'Tranformer_concise.py', 'Transformer.ipynb', 'Transformer2.ipynb', 'Transformer2.py', 'Transformer_video.py', 'Word2Vec-Skipgram(Softmax).py']\n"
     ]
    }
   ],
   "source": [
    "print(os.listdir())"
   ]
  },
  {
   "cell_type": "code",
   "execution_count": 5,
   "id": "150257be",
   "metadata": {},
   "outputs": [],
   "source": [
    "current_dir = os.getcwd()\n",
    "parent_dir = os.path.dirname(current_dir) "
   ]
  },
  {
   "cell_type": "code",
   "execution_count": 6,
   "id": "045d249a",
   "metadata": {},
   "outputs": [
    {
     "name": "stdout",
     "output_type": "stream",
     "text": [
      "c:\\Users\\zhusj\\python\n"
     ]
    }
   ],
   "source": [
    "print(parent_dir)"
   ]
  },
  {
   "cell_type": "code",
   "execution_count": 7,
   "id": "eb205506",
   "metadata": {},
   "outputs": [
    {
     "data": {
      "text/plain": [
       "'c:\\\\Users\\\\zhusj\\\\python\\\\data/order.xlsx'"
      ]
     },
     "execution_count": 7,
     "metadata": {},
     "output_type": "execute_result"
    }
   ],
   "source": [
    "os.path.join(parent_dir,'data/order.xlsx')"
   ]
  },
  {
   "cell_type": "code",
   "execution_count": 8,
   "id": "d6804508",
   "metadata": {},
   "outputs": [
    {
     "data": {
      "text/plain": [
       "'c:\\\\Users\\\\zhusj\\\\python\\\\data/order.xlsx'"
      ]
     },
     "execution_count": 8,
     "metadata": {},
     "output_type": "execute_result"
    }
   ],
   "source": [
    "os.path.join(parent_dir,r'data/order.xlsx')"
   ]
  },
  {
   "cell_type": "code",
   "execution_count": 9,
   "id": "e8c5de88",
   "metadata": {},
   "outputs": [
    {
     "data": {
      "text/html": [
       "<div>\n",
       "<style scoped>\n",
       "    .dataframe tbody tr th:only-of-type {\n",
       "        vertical-align: middle;\n",
       "    }\n",
       "\n",
       "    .dataframe tbody tr th {\n",
       "        vertical-align: top;\n",
       "    }\n",
       "\n",
       "    .dataframe thead th {\n",
       "        text-align: right;\n",
       "    }\n",
       "</style>\n",
       "<table border=\"1\" class=\"dataframe\">\n",
       "  <thead>\n",
       "    <tr style=\"text-align: right;\">\n",
       "      <th></th>\n",
       "      <th>Unnamed: 0</th>\n",
       "      <th>PRODUCTION_ORDER</th>\n",
       "      <th>PLANT</th>\n",
       "      <th>ACTUAL_FINISH_DATE</th>\n",
       "      <th>PN0</th>\n",
       "      <th>DESCRIPTION</th>\n",
       "      <th>PN1</th>\n",
       "      <th>ACCOUNTING_COST</th>\n",
       "      <th>COST_ELEMENT</th>\n",
       "      <th>COST_TYPE</th>\n",
       "      <th>...</th>\n",
       "      <th>WTG007</th>\n",
       "      <th>WTG008</th>\n",
       "      <th>WTG009</th>\n",
       "      <th>WTG010</th>\n",
       "      <th>WTG011</th>\n",
       "      <th>WTG012</th>\n",
       "      <th>WTG013</th>\n",
       "      <th>WTG014</th>\n",
       "      <th>WTG015</th>\n",
       "      <th>WTG016</th>\n",
       "    </tr>\n",
       "  </thead>\n",
       "  <tbody>\n",
       "    <tr>\n",
       "      <th>0</th>\n",
       "      <td>0</td>\n",
       "      <td>302316713</td>\n",
       "      <td>2101</td>\n",
       "      <td>20220322</td>\n",
       "      <td>P1000194588</td>\n",
       "      <td>ACTUATOR ASSY F/ AH700 (SUBSEA 2.0) 2 1/16-15K...</td>\n",
       "      <td>P1000194588</td>\n",
       "      <td>9943.83</td>\n",
       "      <td>497142</td>\n",
       "      <td>4</td>\n",
       "      <td>...</td>\n",
       "      <td>0.0</td>\n",
       "      <td>0</td>\n",
       "      <td>0</td>\n",
       "      <td>0.0</td>\n",
       "      <td>0</td>\n",
       "      <td>0</td>\n",
       "      <td>0</td>\n",
       "      <td>0</td>\n",
       "      <td>0</td>\n",
       "      <td>0</td>\n",
       "    </tr>\n",
       "    <tr>\n",
       "      <th>1</th>\n",
       "      <td>1</td>\n",
       "      <td>302316714</td>\n",
       "      <td>2101</td>\n",
       "      <td>20220324</td>\n",
       "      <td>P1000194588</td>\n",
       "      <td>ACTUATOR ASSY F/ AH700 (SUBSEA 2.0) 2 1/16-15K...</td>\n",
       "      <td>P1000194588</td>\n",
       "      <td>9943.83</td>\n",
       "      <td>497142</td>\n",
       "      <td>4</td>\n",
       "      <td>...</td>\n",
       "      <td>0.0</td>\n",
       "      <td>0</td>\n",
       "      <td>0</td>\n",
       "      <td>0.0</td>\n",
       "      <td>0</td>\n",
       "      <td>0</td>\n",
       "      <td>0</td>\n",
       "      <td>0</td>\n",
       "      <td>0</td>\n",
       "      <td>0</td>\n",
       "    </tr>\n",
       "    <tr>\n",
       "      <th>2</th>\n",
       "      <td>2</td>\n",
       "      <td>302316715</td>\n",
       "      <td>2101</td>\n",
       "      <td>20220325</td>\n",
       "      <td>P1000194588</td>\n",
       "      <td>ACTUATOR ASSY F/ AH700 (SUBSEA 2.0) 2 1/16-15K...</td>\n",
       "      <td>P1000194588</td>\n",
       "      <td>9943.83</td>\n",
       "      <td>497142</td>\n",
       "      <td>4</td>\n",
       "      <td>...</td>\n",
       "      <td>0.0</td>\n",
       "      <td>0</td>\n",
       "      <td>0</td>\n",
       "      <td>0.0</td>\n",
       "      <td>0</td>\n",
       "      <td>0</td>\n",
       "      <td>0</td>\n",
       "      <td>0</td>\n",
       "      <td>0</td>\n",
       "      <td>0</td>\n",
       "    </tr>\n",
       "    <tr>\n",
       "      <th>3</th>\n",
       "      <td>3</td>\n",
       "      <td>302316716</td>\n",
       "      <td>2101</td>\n",
       "      <td>20220329</td>\n",
       "      <td>P1000194588</td>\n",
       "      <td>ACTUATOR ASSY F/ AH700 (SUBSEA 2.0) 2 1/16-15K...</td>\n",
       "      <td>P1000194588</td>\n",
       "      <td>9943.83</td>\n",
       "      <td>497142</td>\n",
       "      <td>4</td>\n",
       "      <td>...</td>\n",
       "      <td>0.0</td>\n",
       "      <td>0</td>\n",
       "      <td>0</td>\n",
       "      <td>0.0</td>\n",
       "      <td>0</td>\n",
       "      <td>0</td>\n",
       "      <td>0</td>\n",
       "      <td>0</td>\n",
       "      <td>0</td>\n",
       "      <td>0</td>\n",
       "    </tr>\n",
       "    <tr>\n",
       "      <th>4</th>\n",
       "      <td>4</td>\n",
       "      <td>302322864</td>\n",
       "      <td>2101</td>\n",
       "      <td>20220406</td>\n",
       "      <td>P1000194588</td>\n",
       "      <td>ACTUATOR ASSY F/ AH700 (SUBSEA 2.0) 2 1/16-15K...</td>\n",
       "      <td>P1000194588</td>\n",
       "      <td>9943.83</td>\n",
       "      <td>497142</td>\n",
       "      <td>4</td>\n",
       "      <td>...</td>\n",
       "      <td>0.0</td>\n",
       "      <td>0</td>\n",
       "      <td>0</td>\n",
       "      <td>0.0</td>\n",
       "      <td>0</td>\n",
       "      <td>0</td>\n",
       "      <td>0</td>\n",
       "      <td>0</td>\n",
       "      <td>0</td>\n",
       "      <td>0</td>\n",
       "    </tr>\n",
       "    <tr>\n",
       "      <th>5</th>\n",
       "      <td>5</td>\n",
       "      <td>302322865</td>\n",
       "      <td>2101</td>\n",
       "      <td>20220406</td>\n",
       "      <td>P1000194588</td>\n",
       "      <td>ACTUATOR ASSY F/ AH700 (SUBSEA 2.0) 2 1/16-15K...</td>\n",
       "      <td>P1000194588</td>\n",
       "      <td>9943.83</td>\n",
       "      <td>497142</td>\n",
       "      <td>4</td>\n",
       "      <td>...</td>\n",
       "      <td>0.0</td>\n",
       "      <td>0</td>\n",
       "      <td>0</td>\n",
       "      <td>0.0</td>\n",
       "      <td>0</td>\n",
       "      <td>0</td>\n",
       "      <td>0</td>\n",
       "      <td>0</td>\n",
       "      <td>0</td>\n",
       "      <td>0</td>\n",
       "    </tr>\n",
       "    <tr>\n",
       "      <th>6</th>\n",
       "      <td>6</td>\n",
       "      <td>302336909</td>\n",
       "      <td>2101</td>\n",
       "      <td>20220623</td>\n",
       "      <td>P1000194588</td>\n",
       "      <td>ACTUATOR ASSY F/ AH700 (SUBSEA 2.0) 2 1/16-15K...</td>\n",
       "      <td>P1000194588</td>\n",
       "      <td>9943.83</td>\n",
       "      <td>497142</td>\n",
       "      <td>4</td>\n",
       "      <td>...</td>\n",
       "      <td>0.0</td>\n",
       "      <td>0</td>\n",
       "      <td>0</td>\n",
       "      <td>0.0</td>\n",
       "      <td>0</td>\n",
       "      <td>0</td>\n",
       "      <td>0</td>\n",
       "      <td>0</td>\n",
       "      <td>0</td>\n",
       "      <td>0</td>\n",
       "    </tr>\n",
       "    <tr>\n",
       "      <th>7</th>\n",
       "      <td>7</td>\n",
       "      <td>302336909</td>\n",
       "      <td>2101</td>\n",
       "      <td>20220623</td>\n",
       "      <td>P1000194588</td>\n",
       "      <td>ACTUATOR ASSY F/ AH700 (SUBSEA 2.0) 2 1/16-15K...</td>\n",
       "      <td>P1000194588</td>\n",
       "      <td>9943.83</td>\n",
       "      <td>497145</td>\n",
       "      <td>4</td>\n",
       "      <td>...</td>\n",
       "      <td>0.0</td>\n",
       "      <td>0</td>\n",
       "      <td>0</td>\n",
       "      <td>0.0</td>\n",
       "      <td>0</td>\n",
       "      <td>0</td>\n",
       "      <td>0</td>\n",
       "      <td>0</td>\n",
       "      <td>0</td>\n",
       "      <td>0</td>\n",
       "    </tr>\n",
       "    <tr>\n",
       "      <th>8</th>\n",
       "      <td>8</td>\n",
       "      <td>302336911</td>\n",
       "      <td>2101</td>\n",
       "      <td>20220622</td>\n",
       "      <td>P1000194588</td>\n",
       "      <td>ACTUATOR ASSY F/ AH700 (SUBSEA 2.0) 2 1/16-15K...</td>\n",
       "      <td>P1000194588</td>\n",
       "      <td>9943.83</td>\n",
       "      <td>497142</td>\n",
       "      <td>4</td>\n",
       "      <td>...</td>\n",
       "      <td>0.0</td>\n",
       "      <td>0</td>\n",
       "      <td>0</td>\n",
       "      <td>0.0</td>\n",
       "      <td>0</td>\n",
       "      <td>0</td>\n",
       "      <td>0</td>\n",
       "      <td>0</td>\n",
       "      <td>0</td>\n",
       "      <td>0</td>\n",
       "    </tr>\n",
       "    <tr>\n",
       "      <th>9</th>\n",
       "      <td>9</td>\n",
       "      <td>302336911</td>\n",
       "      <td>2101</td>\n",
       "      <td>20220622</td>\n",
       "      <td>P1000194588</td>\n",
       "      <td>ACTUATOR ASSY F/ AH700 (SUBSEA 2.0) 2 1/16-15K...</td>\n",
       "      <td>P1000194588</td>\n",
       "      <td>9943.83</td>\n",
       "      <td>497145</td>\n",
       "      <td>4</td>\n",
       "      <td>...</td>\n",
       "      <td>0.0</td>\n",
       "      <td>0</td>\n",
       "      <td>0</td>\n",
       "      <td>0.0</td>\n",
       "      <td>0</td>\n",
       "      <td>0</td>\n",
       "      <td>0</td>\n",
       "      <td>0</td>\n",
       "      <td>0</td>\n",
       "      <td>0</td>\n",
       "    </tr>\n",
       "    <tr>\n",
       "      <th>10</th>\n",
       "      <td>10</td>\n",
       "      <td>302349369</td>\n",
       "      <td>2101</td>\n",
       "      <td>20220704</td>\n",
       "      <td>P1000194588</td>\n",
       "      <td>ACTUATOR ASSY F/ AH700 (SUBSEA 2.0) 2 1/16-15K...</td>\n",
       "      <td>P1000194588</td>\n",
       "      <td>9943.83</td>\n",
       "      <td>497142</td>\n",
       "      <td>4</td>\n",
       "      <td>...</td>\n",
       "      <td>1790.8</td>\n",
       "      <td>0</td>\n",
       "      <td>0</td>\n",
       "      <td>0.0</td>\n",
       "      <td>0</td>\n",
       "      <td>0</td>\n",
       "      <td>0</td>\n",
       "      <td>0</td>\n",
       "      <td>0</td>\n",
       "      <td>0</td>\n",
       "    </tr>\n",
       "    <tr>\n",
       "      <th>11</th>\n",
       "      <td>11</td>\n",
       "      <td>302375234</td>\n",
       "      <td>2101</td>\n",
       "      <td>20220927</td>\n",
       "      <td>P1000194588</td>\n",
       "      <td>ACTUATOR ASSY F/ AH700 (SUBSEA 2.0) 2 1/16-15K...</td>\n",
       "      <td>P1000194588</td>\n",
       "      <td>9943.83</td>\n",
       "      <td>497142</td>\n",
       "      <td>4</td>\n",
       "      <td>...</td>\n",
       "      <td>0.0</td>\n",
       "      <td>0</td>\n",
       "      <td>1870</td>\n",
       "      <td>0.0</td>\n",
       "      <td>0</td>\n",
       "      <td>0</td>\n",
       "      <td>0</td>\n",
       "      <td>0</td>\n",
       "      <td>0</td>\n",
       "      <td>0</td>\n",
       "    </tr>\n",
       "    <tr>\n",
       "      <th>12</th>\n",
       "      <td>12</td>\n",
       "      <td>302375235</td>\n",
       "      <td>2101</td>\n",
       "      <td>20220927</td>\n",
       "      <td>P1000194588</td>\n",
       "      <td>ACTUATOR ASSY F/ AH700 (SUBSEA 2.0) 2 1/16-15K...</td>\n",
       "      <td>P1000194588</td>\n",
       "      <td>9943.83</td>\n",
       "      <td>497142</td>\n",
       "      <td>4</td>\n",
       "      <td>...</td>\n",
       "      <td>0.0</td>\n",
       "      <td>0</td>\n",
       "      <td>1870</td>\n",
       "      <td>0.0</td>\n",
       "      <td>0</td>\n",
       "      <td>0</td>\n",
       "      <td>0</td>\n",
       "      <td>0</td>\n",
       "      <td>0</td>\n",
       "      <td>0</td>\n",
       "    </tr>\n",
       "    <tr>\n",
       "      <th>13</th>\n",
       "      <td>13</td>\n",
       "      <td>302377357</td>\n",
       "      <td>2101</td>\n",
       "      <td>20221017</td>\n",
       "      <td>P1000194588</td>\n",
       "      <td>ACTUATOR ASSY F/ AH700 (SUBSEA 2.0) 2 1/16-15K...</td>\n",
       "      <td>P1000194588</td>\n",
       "      <td>9943.83</td>\n",
       "      <td>497142</td>\n",
       "      <td>4</td>\n",
       "      <td>...</td>\n",
       "      <td>0.0</td>\n",
       "      <td>0</td>\n",
       "      <td>0</td>\n",
       "      <td>1867.8</td>\n",
       "      <td>0</td>\n",
       "      <td>0</td>\n",
       "      <td>0</td>\n",
       "      <td>0</td>\n",
       "      <td>0</td>\n",
       "      <td>0</td>\n",
       "    </tr>\n",
       "  </tbody>\n",
       "</table>\n",
       "<p>14 rows × 26 columns</p>\n",
       "</div>"
      ],
      "text/plain": [
       "    Unnamed: 0  PRODUCTION_ORDER  PLANT  ACTUAL_FINISH_DATE          PN0  \\\n",
       "0            0         302316713   2101            20220322  P1000194588   \n",
       "1            1         302316714   2101            20220324  P1000194588   \n",
       "2            2         302316715   2101            20220325  P1000194588   \n",
       "3            3         302316716   2101            20220329  P1000194588   \n",
       "4            4         302322864   2101            20220406  P1000194588   \n",
       "5            5         302322865   2101            20220406  P1000194588   \n",
       "6            6         302336909   2101            20220623  P1000194588   \n",
       "7            7         302336909   2101            20220623  P1000194588   \n",
       "8            8         302336911   2101            20220622  P1000194588   \n",
       "9            9         302336911   2101            20220622  P1000194588   \n",
       "10          10         302349369   2101            20220704  P1000194588   \n",
       "11          11         302375234   2101            20220927  P1000194588   \n",
       "12          12         302375235   2101            20220927  P1000194588   \n",
       "13          13         302377357   2101            20221017  P1000194588   \n",
       "\n",
       "                                          DESCRIPTION          PN1  \\\n",
       "0   ACTUATOR ASSY F/ AH700 (SUBSEA 2.0) 2 1/16-15K...  P1000194588   \n",
       "1   ACTUATOR ASSY F/ AH700 (SUBSEA 2.0) 2 1/16-15K...  P1000194588   \n",
       "2   ACTUATOR ASSY F/ AH700 (SUBSEA 2.0) 2 1/16-15K...  P1000194588   \n",
       "3   ACTUATOR ASSY F/ AH700 (SUBSEA 2.0) 2 1/16-15K...  P1000194588   \n",
       "4   ACTUATOR ASSY F/ AH700 (SUBSEA 2.0) 2 1/16-15K...  P1000194588   \n",
       "5   ACTUATOR ASSY F/ AH700 (SUBSEA 2.0) 2 1/16-15K...  P1000194588   \n",
       "6   ACTUATOR ASSY F/ AH700 (SUBSEA 2.0) 2 1/16-15K...  P1000194588   \n",
       "7   ACTUATOR ASSY F/ AH700 (SUBSEA 2.0) 2 1/16-15K...  P1000194588   \n",
       "8   ACTUATOR ASSY F/ AH700 (SUBSEA 2.0) 2 1/16-15K...  P1000194588   \n",
       "9   ACTUATOR ASSY F/ AH700 (SUBSEA 2.0) 2 1/16-15K...  P1000194588   \n",
       "10  ACTUATOR ASSY F/ AH700 (SUBSEA 2.0) 2 1/16-15K...  P1000194588   \n",
       "11  ACTUATOR ASSY F/ AH700 (SUBSEA 2.0) 2 1/16-15K...  P1000194588   \n",
       "12  ACTUATOR ASSY F/ AH700 (SUBSEA 2.0) 2 1/16-15K...  P1000194588   \n",
       "13  ACTUATOR ASSY F/ AH700 (SUBSEA 2.0) 2 1/16-15K...  P1000194588   \n",
       "\n",
       "    ACCOUNTING_COST  COST_ELEMENT  COST_TYPE  ...  WTG007  WTG008  WTG009  \\\n",
       "0           9943.83        497142          4  ...     0.0       0       0   \n",
       "1           9943.83        497142          4  ...     0.0       0       0   \n",
       "2           9943.83        497142          4  ...     0.0       0       0   \n",
       "3           9943.83        497142          4  ...     0.0       0       0   \n",
       "4           9943.83        497142          4  ...     0.0       0       0   \n",
       "5           9943.83        497142          4  ...     0.0       0       0   \n",
       "6           9943.83        497142          4  ...     0.0       0       0   \n",
       "7           9943.83        497145          4  ...     0.0       0       0   \n",
       "8           9943.83        497142          4  ...     0.0       0       0   \n",
       "9           9943.83        497145          4  ...     0.0       0       0   \n",
       "10          9943.83        497142          4  ...  1790.8       0       0   \n",
       "11          9943.83        497142          4  ...     0.0       0    1870   \n",
       "12          9943.83        497142          4  ...     0.0       0    1870   \n",
       "13          9943.83        497142          4  ...     0.0       0       0   \n",
       "\n",
       "    WTG010  WTG011  WTG012  WTG013  WTG014  WTG015  WTG016  \n",
       "0      0.0       0       0       0       0       0       0  \n",
       "1      0.0       0       0       0       0       0       0  \n",
       "2      0.0       0       0       0       0       0       0  \n",
       "3      0.0       0       0       0       0       0       0  \n",
       "4      0.0       0       0       0       0       0       0  \n",
       "5      0.0       0       0       0       0       0       0  \n",
       "6      0.0       0       0       0       0       0       0  \n",
       "7      0.0       0       0       0       0       0       0  \n",
       "8      0.0       0       0       0       0       0       0  \n",
       "9      0.0       0       0       0       0       0       0  \n",
       "10     0.0       0       0       0       0       0       0  \n",
       "11     0.0       0       0       0       0       0       0  \n",
       "12     0.0       0       0       0       0       0       0  \n",
       "13  1867.8       0       0       0       0       0       0  \n",
       "\n",
       "[14 rows x 26 columns]"
      ]
     },
     "execution_count": 9,
     "metadata": {},
     "output_type": "execute_result"
    }
   ],
   "source": [
    "pd.read_excel(os.path.join(parent_dir,r'data/order.xlsx'))"
   ]
  },
  {
   "cell_type": "code",
   "execution_count": 10,
   "id": "9f9e748e",
   "metadata": {},
   "outputs": [
    {
     "data": {
      "text/plain": [
       "'c:\\\\Users\\\\zhusj\\\\python\\\\data/P1000194588order.xlsx'"
      ]
     },
     "execution_count": 10,
     "metadata": {},
     "output_type": "execute_result"
    }
   ],
   "source": [
    "os.path.join(parent_dir,f'data/{PN}order.xlsx')"
   ]
  },
  {
   "cell_type": "code",
   "execution_count": 11,
   "id": "a62cd469",
   "metadata": {},
   "outputs": [],
   "source": [
    "df_toplevelpn.to_excel(os.path.join(parent_dir,f'data/{PN}order.xlsx'))"
   ]
  },
  {
   "cell_type": "code",
   "execution_count": 12,
   "id": "1489ce87",
   "metadata": {},
   "outputs": [],
   "source": [
    "pro_order = df_toplevelpn['PRODUCTION_ORDER'].unique()"
   ]
  },
  {
   "cell_type": "code",
   "execution_count": 13,
   "id": "74c18a11",
   "metadata": {},
   "outputs": [
    {
     "data": {
      "text/plain": [
       "numpy.ndarray"
      ]
     },
     "execution_count": 13,
     "metadata": {},
     "output_type": "execute_result"
    }
   ],
   "source": [
    "type(pro_order)"
   ]
  },
  {
   "cell_type": "code",
   "execution_count": 20,
   "id": "5a05d7a4",
   "metadata": {},
   "outputs": [],
   "source": [
    "po_tup = [(i,j) for i,j in enumerate(pro_order)]"
   ]
  },
  {
   "cell_type": "markdown",
   "id": "e01b189b",
   "metadata": {},
   "source": []
  },
  {
   "cell_type": "code",
   "execution_count": 21,
   "id": "d7e64d9f",
   "metadata": {},
   "outputs": [
    {
     "name": "stdout",
     "output_type": "stream",
     "text": [
      "[(0, '302316713'), (1, '302316714'), (2, '302316715'), (3, '302316716'), (4, '302322864'), (5, '302322865'), (6, '302336909'), (7, '302336911'), (8, '302349369'), (9, '302375234'), (10, '302375235'), (11, '302377357')]\n"
     ]
    }
   ],
   "source": [
    "print(po_tup)"
   ]
  },
  {
   "cell_type": "code",
   "execution_count": 23,
   "id": "193236ac",
   "metadata": {},
   "outputs": [
    {
     "data": {
      "text/plain": [
       "'302316713'"
      ]
     },
     "execution_count": 23,
     "metadata": {},
     "output_type": "execute_result"
    }
   ],
   "source": [
    "po_tup[0][1]"
   ]
  },
  {
   "cell_type": "code",
   "execution_count": 24,
   "id": "b8283286",
   "metadata": {},
   "outputs": [],
   "source": [
    "PN_info = {'PN':df_toplevelpn['PN0'][0],'Name':df_toplevelpn['DESCRIPTION'][0][:35],'PO_Number':len(po_tup),'PO':po_tup}"
   ]
  },
  {
   "cell_type": "code",
   "execution_count": 25,
   "id": "a23955f6",
   "metadata": {},
   "outputs": [
    {
     "data": {
      "text/plain": [
       "12"
      ]
     },
     "execution_count": 25,
     "metadata": {},
     "output_type": "execute_result"
    }
   ],
   "source": [
    "PN_info['PO_Number']"
   ]
  },
  {
   "cell_type": "code",
   "execution_count": 30,
   "id": "5ad13ce3",
   "metadata": {},
   "outputs": [
    {
     "data": {
      "text/plain": [
       "'ACTUATOR ASSY F/ AH700 (SUBSEA 2.0)'"
      ]
     },
     "execution_count": 30,
     "metadata": {},
     "output_type": "execute_result"
    }
   ],
   "source": [
    "PN_info['Name']"
   ]
  },
  {
   "cell_type": "code",
   "execution_count": null,
   "id": "5a2d5264",
   "metadata": {},
   "outputs": [],
   "source": []
  }
 ],
 "metadata": {
  "jupytext": {
   "encoding": "# -*- coding: utf-8 -*-",
   "formats": "ipynb,py:percent"
  },
  "kernelspec": {
   "display_name": "Python 3",
   "language": "python",
   "name": "python3"
  },
  "language_info": {
   "codemirror_mode": {
    "name": "ipython",
    "version": 3
   },
   "file_extension": ".py",
   "mimetype": "text/x-python",
   "name": "python",
   "nbconvert_exporter": "python",
   "pygments_lexer": "ipython3",
   "version": "3.10.11"
  }
 },
 "nbformat": 4,
 "nbformat_minor": 5
}
